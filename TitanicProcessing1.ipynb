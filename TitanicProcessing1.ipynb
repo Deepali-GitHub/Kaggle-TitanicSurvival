{
 "cells": [
  {
   "cell_type": "markdown",
   "metadata": {},
   "source": [
    "# Contents\n",
    "1.  Data Exploration\n",
    "2.  Simple predictor as a baseline\n",
    "3.  Linear regression\n",
    "4.  Logistical regression\n"
   ]
  },
  {
   "cell_type": "markdown",
   "metadata": {},
   "source": [
    "# Data Exploration and Cleaning"
   ]
  },
  {
   "cell_type": "code",
   "execution_count": 237,
   "metadata": {
    "collapsed": false
   },
   "outputs": [
    {
     "name": "stdout",
     "output_type": "stream",
     "text": [
      "Populating the interactive namespace from numpy and matplotlib\n",
      "   PassengerId  Survived  Pclass  \\\n",
      "0            1         0       3   \n",
      "1            2         1       1   \n",
      "2            3         1       3   \n",
      "3            4         1       1   \n",
      "4            5         0       3   \n",
      "5            6         0       3   \n",
      "6            7         0       1   \n",
      "7            8         0       3   \n",
      "8            9         1       3   \n",
      "9           10         1       2   \n",
      "\n",
      "                                                Name     Sex   Age  SibSp  \\\n",
      "0                            Braund, Mr. Owen Harris    male  22.0      1   \n",
      "1  Cumings, Mrs. John Bradley (Florence Briggs Th...  female  38.0      1   \n",
      "2                             Heikkinen, Miss. Laina  female  26.0      0   \n",
      "3       Futrelle, Mrs. Jacques Heath (Lily May Peel)  female  35.0      1   \n",
      "4                           Allen, Mr. William Henry    male  35.0      0   \n",
      "5                                   Moran, Mr. James    male   NaN      0   \n",
      "6                            McCarthy, Mr. Timothy J    male  54.0      0   \n",
      "7                     Palsson, Master. Gosta Leonard    male   2.0      3   \n",
      "8  Johnson, Mrs. Oscar W (Elisabeth Vilhelmina Berg)  female  27.0      0   \n",
      "9                Nasser, Mrs. Nicholas (Adele Achem)  female  14.0      1   \n",
      "\n",
      "   Parch            Ticket     Fare Cabin Embarked  \n",
      "0      0         A/5 21171   7.2500   NaN        S  \n",
      "1      0          PC 17599  71.2833   C85        C  \n",
      "2      0  STON/O2. 3101282   7.9250   NaN        S  \n",
      "3      0            113803  53.1000  C123        S  \n",
      "4      0            373450   8.0500   NaN        S  \n",
      "5      0            330877   8.4583   NaN        Q  \n",
      "6      0             17463  51.8625   E46        S  \n",
      "7      1            349909  21.0750   NaN        S  \n",
      "8      2            347742  11.1333   NaN        S  \n",
      "9      0            237736  30.0708   NaN        C  \n"
     ]
    },
    {
     "name": "stderr",
     "output_type": "stream",
     "text": [
      "WARNING: pylab import has clobbered these variables: ['test']\n",
      "`%matplotlib` prevents importing * from pylab and numpy\n"
     ]
    }
   ],
   "source": [
    "#import some packages we expect to use\n",
    "import pandas as pd\n",
    "from matplotlib import pyplot as pp\n",
    "from __future__ import division\n",
    "\n",
    "%pylab inline\n",
    "\n",
    "# Read the data.  \n",
    "data = pd.read_csv('input/train.csv')\n",
    "print(data.head(10))"
   ]
  },
  {
   "cell_type": "markdown",
   "metadata": {},
   "source": [
    "Some observations: \n",
    "- We see there are many missing values in many columns.  We'll need to find which columns are missing values and then find a way to fix it so that we are still use the information.\n",
    "- Many columns have non-numeric data.  These will have to be changed to numeric data.  \n",
    "- We can ignore some of the features.  Without domain expertise, we do not know how to leverage some of the data -- we don't know what it means and implies.  We will ignore Cabin and Ticket information.  "
   ]
  },
  {
   "cell_type": "code",
   "execution_count": 238,
   "metadata": {
    "collapsed": false
   },
   "outputs": [
    {
     "data": {
      "text/plain": [
       "PassengerId      0\n",
       "Survived         0\n",
       "Pclass           0\n",
       "Name             0\n",
       "Sex              0\n",
       "Age            177\n",
       "SibSp            0\n",
       "Parch            0\n",
       "Ticket           0\n",
       "Fare             0\n",
       "Cabin          687\n",
       "Embarked         2\n",
       "dtype: int64"
      ]
     },
     "execution_count": 238,
     "metadata": {},
     "output_type": "execute_result"
    }
   ],
   "source": [
    "pd.isnull(data).sum()"
   ]
  },
  {
   "cell_type": "code",
   "execution_count": 239,
   "metadata": {
    "collapsed": false
   },
   "outputs": [],
   "source": [
    "#1 We expect Age to be important.  We can replace the missing ages with the median age of men and women. \n",
    "medianAgeWomen = data.loc[data['Sex']=='female', 'Age'].median()\n",
    "medianAgeMen = data.loc[data['Sex']=='male', 'Age'].median()\n",
    "data.loc[data['Sex']=='female', 'Age'] = data.loc[data['Sex']=='female', 'Age'].fillna(medianAgeWomen)\n",
    "data.loc[data['Sex']=='male', 'Age'] = data.loc[data['Sex']=='male', 'Age'].fillna(medianAgeMen)\n",
    "\n",
    "#Change Sex and Embarked to numerical values\n",
    "data.loc[data['Sex']=='male', 'Sex'] = 0\n",
    "data.loc[data['Sex']=='female', 'Sex'] = 1\n",
    "\n",
    "#replace missing Embarked value with 'S'\n",
    "data['Embarked'] = data['Embarked'].fillna('S')\n",
    "data.loc[data['Embarked'] == 'S', 'Embarked'] = 0\n",
    "data.loc[data['Embarked'] == 'C', 'Embarked'] = 1\n",
    "data.loc[data['Embarked'] == 'Q', 'Embarked'] = 2\n"
   ]
  },
  {
   "cell_type": "markdown",
   "metadata": {},
   "source": [
    "# Baseline Predictor (Simple, Intuitive, First Pass)\n",
    "\n",
    "Age and Sex seem to be the most intuitive features to correlate survival.  We will do a very quick exploration to see if there is something to our intuition. "
   ]
  },
  {
   "cell_type": "code",
   "execution_count": 240,
   "metadata": {
    "collapsed": false
   },
   "outputs": [
    {
     "name": "stdout",
     "output_type": "stream",
     "text": [
      "Sex  Survived\n",
      "0    0           468\n",
      "     1           109\n",
      "1    1           233\n",
      "     0            81\n",
      "Name: Survived, dtype: int64\n",
      "Survived\n",
      "0    30.193989\n",
      "1    28.232953\n",
      "Name: Age, dtype: float64\n"
     ]
    }
   ],
   "source": [
    "d= data.groupby('Sex').Survived.value_counts()\n",
    "print d\n",
    "d= data.groupby('Survived').Age.mean()\n",
    "print d"
   ]
  },
  {
   "cell_type": "markdown",
   "metadata": {},
   "source": [
    "The mean age of the survivors isn't much different than the mean age of all the passengers.  However, women seem to have a much higher survival rate. We can use that as a first cut baseline predictor.  If woman, declare survived.  We can compute the accuracy of such a pedictor: "
   ]
  },
  {
   "cell_type": "code",
   "execution_count": 241,
   "metadata": {
    "collapsed": false
   },
   "outputs": [
    {
     "name": "stdout",
     "output_type": "stream",
     "text": [
      "Accuracy of the gender based predictor: 0.786756\n"
     ]
    }
   ],
   "source": [
    "survived = data['Sex']\n",
    "accuracy_gender_based_predictor = sum(data['Survived'] == survived)/len(data['Sex']) \n",
    "print 'Accuracy of the gender based predictor: %f' %accuracy_gender_based_predictor"
   ]
  },
  {
   "cell_type": "code",
   "execution_count": 242,
   "metadata": {
    "collapsed": true
   },
   "outputs": [],
   "source": [
    "#read the test data\n",
    "test_data = pd.read_csv('input/test.csv')\n",
    "test_data.loc[test_data['Sex']=='female', 'Sex'] = 1\n",
    "test_data.loc[test_data['Sex']=='male', 'Sex'] = 0\n",
    "\n",
    "submit_gender_predictor = pd.DataFrame({'PassengerId': test_data['PassengerId'],\n",
    "                                       'Survived':test_data['Sex']})\n",
    "submit_gender_predictor.to_csv('gender_based_predictor.csv')"
   ]
  },
  {
   "cell_type": "markdown",
   "metadata": {},
   "source": [
    "Submitting the results show accuracy of   \n",
    "\n",
    "Let's see if we can do better.  We will try linear regression. \n"
   ]
  },
  {
   "cell_type": "code",
   "execution_count": null,
   "metadata": {
    "collapsed": true
   },
   "outputs": [],
   "source": []
  },
  {
   "cell_type": "markdown",
   "metadata": {},
   "source": [
    "# Linear  and Logistic Regression"
   ]
  },
  {
   "cell_type": "code",
   "execution_count": 243,
   "metadata": {
    "collapsed": false
   },
   "outputs": [],
   "source": [
    "# Import the linear regression class\n",
    "from sklearn.linear_model import LinearRegression\n",
    "# Sklearn also has a helper that makes it easy to do cross validation\n",
    "from sklearn.cross_validation import KFold\n",
    "\n",
    "# The columns we'll use to predict the target\n",
    "predictors = [\"Pclass\", \"Sex\", \"Age\", \"SibSp\", \"Parch\", \"Fare\", \"Embarked\"]\n",
    "\n",
    "# Initialize the algorithm class\n",
    "alg = LinearRegression()\n",
    "\n",
    "# Generate cross validation folds for the titanic dataset.  It return the row indices corresponding to train and test.\n",
    "# We set random_state to ensure we get the same splits every time we run this.\n",
    "kf = KFold(data.shape[0], n_folds=3, random_state=1)\n",
    "\n",
    "predictions = []\n",
    "for train, test in kf:\n",
    "    # The predictors we're using the train the algorithm.  Note how we only take the rows in the train folds.\n",
    "    train_predictors = (data[predictors].iloc[train,:])\n",
    "    # The target we're using to train the algorithm.\n",
    "    train_target = data[\"Survived\"].iloc[train]\n",
    "    # Training the algorithm using the predictors and target.\n",
    "    alg.fit(train_predictors, train_target)\n",
    "    # We can now make predictions on the test fold\n",
    "    test_predictions = alg.predict(data[predictors].iloc[test,:])\n",
    "    predictions.append(test_predictions)"
   ]
  },
  {
   "cell_type": "markdown",
   "metadata": {},
   "source": [
    "Evaluate the accuracy of the linear model"
   ]
  },
  {
   "cell_type": "code",
   "execution_count": 244,
   "metadata": {
    "collapsed": false
   },
   "outputs": [],
   "source": [
    "import numpy as np\n",
    "\n",
    "# The predictions are in three separate numpy arrays.  Concatenate them into one.  \n",
    "predictions = np.concatenate(predictions, axis=0)\n",
    "\n",
    "# Map predictions to outcomes (only possible outcomes are 1 and 0)\n",
    "predictions[predictions > .5] = 1\n",
    "predictions[predictions <=.5] = 0\n"
   ]
  },
  {
   "cell_type": "markdown",
   "metadata": {},
   "source": [
    "Note that this is really a logistic regression -- we are predicting binary class -- either survived or not survived. \n",
    "Also, python provides functions to do the exercise above much more simply: "
   ]
  },
  {
   "cell_type": "code",
   "execution_count": 245,
   "metadata": {
    "collapsed": false
   },
   "outputs": [
    {
     "name": "stdout",
     "output_type": "stream",
     "text": [
      "0.79012345679\n"
     ]
    }
   ],
   "source": [
    "from sklearn import cross_validation, linear_model\n",
    "\n",
    "# Initialize our algorithm\n",
    "alg = linear_model.LogisticRegression(random_state=1)\n",
    "# Compute the accuracy score for all the cross validation folds.\n",
    "kf = cross_validation.KFold(data.shape[0], n_folds=3, random_state=1)\n",
    "scores = cross_validation.cross_val_score(alg, data[predictors], data[\"Survived\"], cv=kf)\n",
    "# Take the mean of the scores (because we have one for each fold)\n",
    "print(scores.mean())"
   ]
  },
  {
   "cell_type": "markdown",
   "metadata": {},
   "source": [
    "The accuracy from a logistic regression is about the same as our simple predictor.  We will make submission to check how the predictor performs on the test data. "
   ]
  },
  {
   "cell_type": "code",
   "execution_count": 246,
   "metadata": {
    "collapsed": false
   },
   "outputs": [
    {
     "name": "stdout",
     "output_type": "stream",
     "text": [
      "   Pclass Sex   Age  SibSp  Parch     Fare Embarked\n",
      "0       3   0  34.5      0      0   7.8292        2\n",
      "1       3   1  47.0      1      0   7.0000        0\n",
      "2       2   0  62.0      0      0   9.6875        2\n",
      "3       3   0  27.0      0      0   8.6625        0\n",
      "4       3   1  22.0      1      1  12.2875        0\n"
     ]
    }
   ],
   "source": [
    "#Process the test data the same way as the training data: \n",
    "\n",
    "test_data.loc[test_data['Sex']==1, 'Age'] = test_data.loc[test_data['Sex']==1, 'Age'].fillna(medianAgeWomen)\n",
    "test_data.loc[test_data['Sex']==0, 'Age'] = test_data.loc[test_data['Sex']==0, 'Age'].fillna(medianAgeMen)\n",
    "\n",
    "#replace missing Embarked value with 'S'\n",
    "test_data['Embarked'] = test_data['Embarked'].fillna('S')\n",
    "test_data.loc[test_data['Embarked'] == 'S', 'Embarked'] = 0\n",
    "test_data.loc[test_data['Embarked'] == 'C', 'Embarked'] = 1\n",
    "test_data.loc[test_data['Embarked'] == 'Q', 'Embarked'] = 2\n",
    "\n",
    "test_data['Fare'] = test_data['Fare'].fillna(0)\n",
    "\n",
    "alg = linear_model.LogisticRegression(random_state=1)\n",
    "\n",
    "# Train the algorithm using all the training data\n",
    "alg.fit(data[predictors], data['Survived'])\n",
    "\n",
    "# Make predictions using the test set.\n",
    "predictions = alg.predict(test_data[predictors])\n",
    "\n",
    "# Create a new dataframe with only the columns Kaggle wants from the dataset.\n",
    "submit_logistic_regression_predictor = pd.DataFrame({\n",
    "        'PassengerId': test_data['PassengerId'],\n",
    "        'Survived': predictions\n",
    "    })\n",
    "\n",
    "submit_logistic_regression_predictor.to_csv('submit_logistic_regression_predictor.csv')"
   ]
  },
  {
   "cell_type": "markdown",
   "metadata": {},
   "source": [
    "Submitting the results show accuracy of "
   ]
  },
  {
   "cell_type": "markdown",
   "metadata": {},
   "source": [
    "Next we will try a Random Forest classifier: "
   ]
  },
  {
   "cell_type": "code",
   "execution_count": 247,
   "metadata": {
    "collapsed": false
   },
   "outputs": [
    {
     "name": "stdout",
     "output_type": "stream",
     "text": [
      "0.786756453423\n"
     ]
    }
   ],
   "source": [
    "from sklearn import cross_validation\n",
    "from sklearn.ensemble import RandomForestClassifier\n",
    "\n",
    "# The columns we'll use to predict the target\n",
    "predictors = [\"Pclass\", \"Sex\", \"Age\", \"SibSp\", \"Parch\", \"Fare\", \"Embarked\"]\n",
    "\n",
    "#use default parameters for Random Forest classifier.\n",
    "alg = RandomForestClassifier(random_state = 1)\n",
    "kf = cross_validation.KFold(data.shape[0], n_folds = 3, random_state = 1)\n",
    "scores = cross_validation.cross_val_score(alg, data[predictors], data['Survived'], cv=kf)\n",
    "print (scores.mean())\n"
   ]
  },
  {
   "cell_type": "markdown",
   "metadata": {},
   "source": [
    "We'll do some feature engineering next to improve the accuracy. "
   ]
  },
  {
   "cell_type": "code",
   "execution_count": 252,
   "metadata": {
    "collapsed": false
   },
   "outputs": [],
   "source": [
    "#generate Family size\n",
    "data['FamilySize'] = data['SibSp'] + data['Parch']+1 #include self in the family. \n",
    "\n",
    "import re\n",
    "#generate titles \n",
    "def extractTitle(name):\n",
    "    if(name is not None):\n",
    "        title = re.search(r'([A-Z][a-z]+)\\.', name)\n",
    "        if title:\n",
    "            return title.group(1)\n",
    "        return \"\"\n",
    "    return \"\"\n",
    "data['Title'] = data['Name'].apply(extractTitle)\n",
    "data['Title'].value_counts()\n",
    "title_code = {'Mr':1, 'Don': 1, 'Miss':2, 'Ms':2, 'Mlle':2, 'Mrs':3, 'Mme': 3, 'Master':4, 'Dr':5, 'Rev':6, \n",
    "              'Col':7, 'Major':7, 'Capt':7, 'Countess':8, 'Lady':8, 'Jonkheer':8, 'Sir':9}\n",
    "data['Title_code'] = [title_code[x] for x in data['Title']]\n",
    "\n",
    "# Collect the people in a family.  Use lastname + family size to identify. Then assign a numerical value to the family. \n",
    "data['Family'] =  [x.split(\",\")[0] for x in data['Name']]\n",
    "data.loc[data['FamilySize'] == 1, 'Family'] = 'noFamily'\n",
    "data['Family'] = data['Family'] + [str(x) for x in data['FamilySize']]\n",
    "FamilyDic = dict(zip(data['Family'].unique(), range(len(data['Family'].unique()))))\n",
    "data['Family'] = [FamilyDic[x] for x in data['Family']]\n"
   ]
  },
  {
   "cell_type": "markdown",
   "metadata": {
    "collapsed": true
   },
   "source": [
    "Now, let's see whether any of the features that we have generated are useful"
   ]
  },
  {
   "cell_type": "code",
   "execution_count": 249,
   "metadata": {
    "collapsed": false
   },
   "outputs": [
    {
     "data": {
      "text/plain": [
       "([<matplotlib.axis.XTick at 0xe294198>,\n",
       "  <matplotlib.axis.XTick at 0xdda5eb8>,\n",
       "  <matplotlib.axis.XTick at 0xe361ba8>,\n",
       "  <matplotlib.axis.XTick at 0xe5f41d0>,\n",
       "  <matplotlib.axis.XTick at 0xe5f4828>,\n",
       "  <matplotlib.axis.XTick at 0xe5f4e80>,\n",
       "  <matplotlib.axis.XTick at 0xe5fe518>,\n",
       "  <matplotlib.axis.XTick at 0xe5feb70>,\n",
       "  <matplotlib.axis.XTick at 0xe60a208>,\n",
       "  <matplotlib.axis.XTick at 0xe60a860>],\n",
       " <a list of 10 Text xticklabel objects>)"
      ]
     },
     "execution_count": 249,
     "metadata": {},
     "output_type": "execute_result"
    },
    {
     "data": {
      "image/png": "[encoded data removed]",
      "text/plain": [
       "<matplotlib.figure.Figure at 0xddb7e80>"
      ]
     },
     "metadata": {},
     "output_type": "display_data"
    }
   ],
   "source": [
    "import numpy as np\n",
    "from sklearn.feature_selection import SelectKBest, f_classif\n",
    "\n",
    "#we have added new features: \n",
    "predictor = [\"Pclass\", \"Sex\", \"Age\", \"SibSp\", \"Parch\", \"Fare\", \"Embarked\", \"Family\", \"FamilySize\", \"Title_code\"]\n",
    "s = SelectKBest(f_classif, k = 5)\n",
    "s.fit(data[predictor], data['Survived'])\n",
    "\n",
    "scores = -np.log10(s.pvalues_)\n",
    "\n",
    "pyplot.bar(range(len(predictor)), scores)\n",
    "pyplot.xticks(range(len(predictor)), predictor, rotation='vertical')"
   ]
  },
  {
   "cell_type": "markdown",
   "metadata": {},
   "source": [
    "Use the five highest values to generate a solution. "
   ]
  },
  {
   "cell_type": "code",
   "execution_count": 250,
   "metadata": {
    "collapsed": false
   },
   "outputs": [
    {
     "name": "stdout",
     "output_type": "stream",
     "text": [
      "0.826038159371\n"
     ]
    }
   ],
   "source": [
    "alg = RandomForestClassifier(random_state=1, n_estimators=50, min_samples_split=8, min_samples_leaf= 4)\n",
    "score = cross_validation.cross_val_score(alg, data[predictor], data['Survived'], cv = kf)\n",
    "print(mean(score))"
   ]
  },
  {
   "cell_type": "markdown",
   "metadata": {},
   "source": [
    "Generate the same features for the test set and then prepare a submission. "
   ]
  },
  {
   "cell_type": "code",
   "execution_count": 256,
   "metadata": {
    "collapsed": false
   },
   "outputs": [],
   "source": [
    "test_data['FamilySize'] = test_data['SibSp'] + test_data['Parch']+1 #include self in the family. \n",
    "\n",
    "#generate titles \n",
    "\n",
    "test_data['Title'] = test_data['Name'].apply(extractTitle)\n",
    "\n",
    "#use the same titlecode as before. \n",
    "test_data['Title_code'] = [title_code.get(x, -1) for x in test_data['Title']]\n",
    "\n",
    "# Collect the people in a family.  Use lastname + family size to identify. Then assign a numerical value to the family. \n",
    "test_data['Family'] =  [x.split(\",\")[0] for x in test_data['Name']]\n",
    "test_data.loc[test_data['FamilySize'] == 1, 'Family'] = 'noFamily'\n",
    "test_data['Family'] = test_data['Family'] + [str(x) for x in test_data['FamilySize']]\n",
    "test_data['Family'] = [FamilyDic.get(x, -1) for x in test_data['Family']]"
   ]
  },
  {
   "cell_type": "code",
   "execution_count": 260,
   "metadata": {
    "collapsed": false
   },
   "outputs": [],
   "source": [
    "alg.fit(data[predictor], data['Survived'])\n",
    "prediction = alg.predict(test_data[predictor])\n",
    "submission = pd.DataFrame({'PassengerId': test_data['PassengerId'], \n",
    "                          'Survived' : prediction})\n",
    "submission.to_csv('submit_random_forest.csv')"
   ]
  },
  {
   "cell_type": "markdown",
   "metadata": {},
   "source": [
    "Our accuracy with this submission is: \n",
    "\n",
    "There are many more things to try with this dataset and I  hope to return to try them soon. \n",
    "1. What if we tried gradient boosting? \n",
    "2. What if we averaged the results from multiple classifiers, as in an ensemble? \n",
    "3. What if we used a vote from each classifier? \n"
   ]
  },
  {
   "cell_type": "code",
   "execution_count": null,
   "metadata": {
    "collapsed": true
   },
   "outputs": [],
   "source": []
  }
 ],
 "metadata": {
  "anaconda-cloud": {},
  "kernelspec": {
   "display_name": "Python [Root]",
   "language": "python",
   "name": "Python [Root]"
  },
  "language_info": {
   "codemirror_mode": {
    "name": "ipython",
    "version": 2
   },
   "file_extension": ".py",
   "mimetype": "text/x-python",
   "name": "python",
   "nbconvert_exporter": "python",
   "pygments_lexer": "ipython2",
   "version": "2.7.12"
  }
 },
 "nbformat": 4,
 "nbformat_minor": 0
}
